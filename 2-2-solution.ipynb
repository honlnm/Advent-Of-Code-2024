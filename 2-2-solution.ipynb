{
 "cells": [
  {
   "cell_type": "code",
   "execution_count": 181,
   "metadata": {},
   "outputs": [],
   "source": [
    "import numpy as np"
   ]
  },
  {
   "cell_type": "code",
   "execution_count": 182,
   "metadata": {},
   "outputs": [],
   "source": [
    "def split_numbers(line):\n",
    "    \"\"\"Splits a line of space-speerated numbers into a list\"\"\"\n",
    "\n",
    "    return [int(x) for x in line.split()]"
   ]
  },
  {
   "cell_type": "code",
   "execution_count": 183,
   "metadata": {},
   "outputs": [],
   "source": [
    "def check_inc_variances(list):\n",
    "    arr = np.array(list)\n",
    "    diff = np.diff(arr)\n",
    "    is_acceptable_inc_variance = np.all(diff > 0) and np.all(diff < 4)\n",
    "    if is_acceptable_inc_variance:\n",
    "        return True\n",
    "    for i in range(len(arr)):\n",
    "        temp_arr = np.delete(arr, i)\n",
    "        temp_diff = np.diff(temp_arr)\n",
    "        if np.all(temp_diff > 0) and np.all(temp_diff < 4):\n",
    "            return True\n",
    "    return False"
   ]
  },
  {
   "cell_type": "code",
   "execution_count": 184,
   "metadata": {},
   "outputs": [],
   "source": [
    "def check_dec_variances(list):\n",
    "    arr = np.array(list)\n",
    "    diff = np.diff(arr)\n",
    "    is_acceptable_dec_variance = np.all(diff > -4) and np.all(diff < 0)\n",
    "    if is_acceptable_dec_variance:\n",
    "        return True \n",
    "    for i in range(len(arr)):\n",
    "        temp_arr = np.delete(arr, i)\n",
    "        temp_diff = np.diff(temp_arr)\n",
    "        if np.all(temp_diff < 0) and np.all(temp_diff > -4):\n",
    "            return True\n",
    "    return False"
   ]
  },
  {
   "cell_type": "code",
   "execution_count": 185,
   "metadata": {},
   "outputs": [],
   "source": [
    "def check(list):\n",
    "    arr = np.array(list)\n",
    "    diff = np.diff(arr)\n",
    "    is_all_increasing = np.all(diff > 0)\n",
    "    is_all_decreasing = np.all(diff < 0)\n",
    "    if is_all_increasing:\n",
    "        return check_inc_variances(list)\n",
    "    elif is_all_decreasing:\n",
    "        return check_dec_variances(list)\n",
    "    # else:\n",
    "    #     for i in range (len(arr)):\n",
    "    #         temp_arr = np.delete(arr, i)\n",
    "    #         temp_diff = np.diff(temp_arr)\n",
    "    #         if len(temp_arr) < 2:\n",
    "    #             continue\n",
    "    #         if np.all(temp_diff > 0) and np.all(temp_diff < 4):\n",
    "    #             return True\n",
    "    #         elif np.all(diff > -4) and np.all(diff < 0):\n",
    "    #             return True\n",
    "    return False"
   ]
  },
  {
   "cell_type": "code",
   "execution_count": 186,
   "metadata": {},
   "outputs": [],
   "source": [
    "lines = []\n",
    "with open(\"2-puzzle_input.txt\", \"r\") as file:\n",
    "    for line in file:\n",
    "        line_list = split_numbers(line)\n",
    "        lines.append(line_list)"
   ]
  },
  {
   "cell_type": "code",
   "execution_count": 187,
   "metadata": {},
   "outputs": [
    {
     "name": "stdout",
     "output_type": "stream",
     "text": [
      "255\n"
     ]
    }
   ],
   "source": [
    "safe_reports = 0\n",
    "for line in lines:\n",
    "    if check(line):\n",
    "        safe_reports += 1\n",
    "    continue\n",
    "\n",
    "print(safe_reports)"
   ]
  }
 ],
 "metadata": {
  "kernelspec": {
   "display_name": "base",
   "language": "python",
   "name": "python3"
  },
  "language_info": {
   "codemirror_mode": {
    "name": "ipython",
    "version": 3
   },
   "file_extension": ".py",
   "mimetype": "text/x-python",
   "name": "python",
   "nbconvert_exporter": "python",
   "pygments_lexer": "ipython3",
   "version": "3.12.7"
  }
 },
 "nbformat": 4,
 "nbformat_minor": 2
}
