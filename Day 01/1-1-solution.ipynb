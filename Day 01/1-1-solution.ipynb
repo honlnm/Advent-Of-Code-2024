{
 "cells": [
  {
   "cell_type": "code",
   "execution_count": 36,
   "metadata": {},
   "outputs": [],
   "source": [
    "list1 = []\n",
    "list2 = []\n",
    "sorted_list = []\n",
    "with open(\"1-puzzle_input.txt\", \"r\") as file:\n",
    "    for line in file:\n",
    "        input1, input2 = line.strip().split()\n",
    "        list1.append(input1)\n",
    "        list2.append(input2)\n",
    "list1.sort()\n",
    "list2.sort()\n"
   ]
  },
  {
   "cell_type": "code",
   "execution_count": 37,
   "metadata": {},
   "outputs": [],
   "source": [
    "differences = []\n",
    "list_index = len(list1)\n",
    "for number in range(0,list_index):\n",
    "    variance = abs(int(list1[number]) - int(list2[number]))\n",
    "    differences.append(variance)\n",
    "\n",
    "if (int(len(list1)) - int(len(list2))) != 0 or (int(len(list1)) - len(differences)) != 0:\n",
    "    raise Exception(\"lists have different amount of numbers\")"
   ]
  },
  {
   "cell_type": "code",
   "execution_count": 38,
   "metadata": {},
   "outputs": [
    {
     "name": "stdout",
     "output_type": "stream",
     "text": [
      "1590491\n"
     ]
    }
   ],
   "source": [
    "total_distance = 0\n",
    "for distance in differences:\n",
    "    total_distance += distance\n",
    "\n",
    "print(total_distance)"
   ]
  }
 ],
 "metadata": {
  "kernelspec": {
   "display_name": "base",
   "language": "python",
   "name": "python3"
  },
  "language_info": {
   "codemirror_mode": {
    "name": "ipython",
    "version": 3
   },
   "file_extension": ".py",
   "mimetype": "text/x-python",
   "name": "python",
   "nbconvert_exporter": "python",
   "pygments_lexer": "ipython3",
   "version": "3.12.7"
  }
 },
 "nbformat": 4,
 "nbformat_minor": 2
}
