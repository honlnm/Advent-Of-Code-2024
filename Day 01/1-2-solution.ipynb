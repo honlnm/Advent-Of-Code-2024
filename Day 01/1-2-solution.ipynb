{
 "cells": [
  {
   "cell_type": "code",
   "execution_count": 1,
   "metadata": {},
   "outputs": [],
   "source": [
    "list1 = []\n",
    "list2 = []\n",
    "sorted_list = []\n",
    "with open(\"1-puzzle_input.txt\", \"r\") as file:\n",
    "    for line in file:\n",
    "        input1, input2 = line.strip().split()\n",
    "        list1.append(input1)\n",
    "        list2.append(input2)\n"
   ]
  },
  {
   "cell_type": "code",
   "execution_count": 2,
   "metadata": {},
   "outputs": [],
   "source": [
    "similarities = []\n",
    "for location in list1:\n",
    "    count = list2.count(location)\n",
    "    similarity_score = int(location) * int(count)\n",
    "    similarities.append(similarity_score)"
   ]
  },
  {
   "cell_type": "code",
   "execution_count": 3,
   "metadata": {},
   "outputs": [],
   "source": [
    "if (int(len(list1)) - int(len(similarities))) != 0:\n",
    "    raise Exception(\"function did not find all similarity instances\")"
   ]
  },
  {
   "cell_type": "code",
   "execution_count": 4,
   "metadata": {},
   "outputs": [
    {
     "name": "stdout",
     "output_type": "stream",
     "text": [
      "22588371\n"
     ]
    }
   ],
   "source": [
    "total_similarity = 0\n",
    "for num in similarities:\n",
    "    total_similarity += int(num)\n",
    "\n",
    "print(total_similarity)"
   ]
  }
 ],
 "metadata": {
  "kernelspec": {
   "display_name": "base",
   "language": "python",
   "name": "python3"
  },
  "language_info": {
   "codemirror_mode": {
    "name": "ipython",
    "version": 3
   },
   "file_extension": ".py",
   "mimetype": "text/x-python",
   "name": "python",
   "nbconvert_exporter": "python",
   "pygments_lexer": "ipython3",
   "version": "3.12.7"
  }
 },
 "nbformat": 4,
 "nbformat_minor": 2
}
